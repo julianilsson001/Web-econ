{
 "cells": [
  {
   "cell_type": "code",
   "execution_count": null,
   "metadata": {
    "collapsed": true
   },
   "outputs": [],
   "source": [
    "import pandas as pd\n",
    "import matplotlib.pyplot as plt\n",
    "import numpy as py\n",
    "import sklearn"
   ]
  },
  {
   "cell_type": "markdown",
   "metadata": {},
   "source": [
    "# Preprocessing"
   ]
  },
  {
   "cell_type": "code",
   "execution_count": null,
   "metadata": {
    "collapsed": true
   },
   "outputs": [],
   "source": [
    "training = pd.read_csv('/Users/julianilsson/Documents/UCL/Web Economics/dataset/train.csv')\n",
    "validation = pd.read_csv('/Users/julianilsson/Documents/UCL/Web Economics/dataset/validation.csv')\n",
    "test = pd.read_csv('/Users/julianilsson/Documents/UCL/Web Economics/dataset/test.csv')"
   ]
  },
  {
   "cell_type": "code",
   "execution_count": null,
   "metadata": {
    "collapsed": true
   },
   "outputs": [],
   "source": [
    "training = training[(training.payprice < training.bidprice)]\n",
    "validation = validation[(validation.payprice < validation.bidprice)]\n",
    "zero = training.loc[training['click'] == 0]\n",
    "one = training.loc[training['click'] == 1]\n",
    "frames = [one,zero]\n",
    "training2 = pd.concat(frames)"
   ]
  },
  {
   "cell_type": "code",
   "execution_count": null,
   "metadata": {
    "collapsed": true
   },
   "outputs": [],
   "source": [
    "training2.to_csv(path_or_buf='/Users/julianilsson/Documents/UCL/Web Economics/dataset/train_downsampled.csv')"
   ]
  },
  {
   "cell_type": "code",
   "execution_count": null,
   "metadata": {
    "collapsed": true
   },
   "outputs": [],
   "source": [
    "training2['Data'] = 'training'\n",
    "validation['Data'] = 'validation'\n",
    "test['Data'] = 'test'"
   ]
  },
  {
   "cell_type": "code",
   "execution_count": null,
   "metadata": {
    "collapsed": true
   },
   "outputs": [],
   "source": [
    "frames2 = [training2, validation, test]\n",
    "concatenated = pd.concat(frames2)"
   ]
  },
  {
   "cell_type": "code",
   "execution_count": null,
   "metadata": {
    "collapsed": true
   },
   "outputs": [],
   "source": [
    "concatenated.to_csv(path_or_buf='/Users/julianilsson/Documents/UCL/Web Economics/dataset/concatenated_downsampled.csv')"
   ]
  },
  {
   "cell_type": "code",
   "execution_count": null,
   "metadata": {
    "collapsed": true
   },
   "outputs": [],
   "source": [
    "concatenated = pd.read_csv('/Users/julianilsson/Documents/UCL/Web Economics/dataset/concatenated_downsampled.csv', index_col = 0)"
   ]
  },
  {
   "cell_type": "code",
   "execution_count": null,
   "metadata": {
    "collapsed": true
   },
   "outputs": [],
   "source": [
    "del concatenated['keypage']\n",
    "del concatenated['payprice']\n",
    "del concatenated['bidprice']\n",
    "del concatenated['urlid']\n",
    "del concatenated['url']\n",
    "del concatenated['IP']\n",
    "del concatenated['userid']\n",
    "del concatenated['logtype']\n",
    "del concatenated['bidid']\n",
    "del concatenated['domain']\n",
    "del concatenated['slotid']"
   ]
  },
  {
   "cell_type": "code",
   "execution_count": null,
   "metadata": {
    "collapsed": true
   },
   "outputs": [],
   "source": [
    "df1 = pd.get_dummies(concatenated['weekday'],prefix=['Day'])\n",
    "df2 = pd.get_dummies(concatenated['hour'],prefix=['Hour'])\n",
    "df3 = pd.get_dummies(concatenated['useragent'])\n",
    "df4 = pd.get_dummies(concatenated['region'],prefix=['Region'])\n",
    "df5 = pd.get_dummies(concatenated['city'],prefix=['City'])\n",
    "df6 = pd.get_dummies(concatenated['adexchange'],prefix=['Exchange'])\n",
    "df9 = pd.get_dummies(concatenated['slotwidth'],prefix=['SlotW'])\n",
    "df10 = pd.get_dummies(concatenated['slotheight'],prefix=['SlotH'])\n",
    "df11 = pd.get_dummies(concatenated['slotvisibility'],prefix=['SlotV'])\n",
    "df12 = pd.get_dummies(concatenated['slotformat'],prefix=['SlotF'])\n",
    "df13 = pd.get_dummies(concatenated['slotprice'],prefix=['SlotP'])\n",
    "df14 = pd.get_dummies(concatenated['creative'])"
   ]
  },
  {
   "cell_type": "code",
   "execution_count": null,
   "metadata": {
    "collapsed": true
   },
   "outputs": [],
   "source": [
    "del concatenated['weekday']\n",
    "del concatenated['hour']\n",
    "del concatenated['useragent']\n",
    "del concatenated['region']\n",
    "del concatenated['city']\n",
    "del concatenated['adexchange']\n",
    "del concatenated['slotwidth']\n",
    "del concatenated['slotheight']\n",
    "del concatenated['slotvisibility']\n",
    "del concatenated['slotformat']\n",
    "del concatenated['slotprice']\n",
    "del concatenated['creative']"
   ]
  },
  {
   "cell_type": "code",
   "execution_count": null,
   "metadata": {
    "collapsed": true
   },
   "outputs": [],
   "source": [
    "tags = pd.DataFrame(concatenated.usertag)\n",
    "lst_col = 'usertag'\n",
    "x = tags.assign(**{lst_col:tags[lst_col].str.split(',')})\n",
    "df15 = x['usertag'].str.join(sep='*').str.get_dummies(sep='*')\n",
    "del concatenated['usertag']"
   ]
  },
  {
   "cell_type": "code",
   "execution_count": null,
   "metadata": {
    "collapsed": true
   },
   "outputs": [],
   "source": [
    "df16 = pd.get_dummies(concatenated['advertiser'], prefix=['Adv'])\n",
    "del concatenated['advertiser']"
   ]
  },
  {
   "cell_type": "code",
   "execution_count": null,
   "metadata": {
    "collapsed": true
   },
   "outputs": [],
   "source": [
    "concatenated = pd.concat([concatenated, df1, df2, df3, df4, df5, df6, df9, df10, df11, df12, df13, df14, df15, df16], axis=1)\n",
    "del concatenated['null']\n",
    "training_new = concatenated.loc[concatenated['Data'] == 'training']\n",
    "del training_new ['Data']\n",
    "training_new.to_csv(path_or_buf='/Users/julianilsson/Documents/UCL/Web Economics/dataset/training_edited.csv')"
   ]
  },
  {
   "cell_type": "code",
   "execution_count": null,
   "metadata": {
    "collapsed": true
   },
   "outputs": [],
   "source": [
    "validation_new = concatenated.loc[concatenated['Data'] == 'validation']\n",
    "del validation_new ['Data']\n",
    "validation_new.to_csv(path_or_buf='/Users/julianilsson/Documents/UCL/Web Economics/dataset/validation_edited.csv')"
   ]
  },
  {
   "cell_type": "code",
   "execution_count": null,
   "metadata": {
    "collapsed": true
   },
   "outputs": [],
   "source": [
    "test_new = concatenated.loc[concatenated['Data'] == 'test']\n",
    "del test_new ['Data']\n",
    "test_new.to_csv(path_or_buf='/Users/julianilsson/Documents/UCL/Web Economics/dataset/test_edited.csv')"
   ]
  },
  {
   "cell_type": "markdown",
   "metadata": {},
   "source": [
    "# Exploratory analysis"
   ]
  },
  {
   "cell_type": "code",
   "execution_count": null,
   "metadata": {
    "collapsed": true
   },
   "outputs": [],
   "source": [
    "training = pd.read_csv('/Users/julianilsson/Documents/UCL/Web Economics/dataset/train.csv')\n",
    "training = training_orig[(training_orig.payprice < training_orig.bidprice)]"
   ]
  },
  {
   "cell_type": "code",
   "execution_count": null,
   "metadata": {
    "collapsed": true
   },
   "outputs": [],
   "source": [
    "weekday = training.groupby(['weekday']).size()\n",
    "weekday_ = training.groupby('weekday', as_index=False)['click'].mean()\n",
    "\n",
    "plt.figure(figsize=(12,4))\n",
    "ax=plt.subplot(121)\n",
    "sns.set_style(\"darkgrid\")\n",
    "plt.plot(weekday, marker='o')\n",
    "ax.set_xlabel(\"Weekday\")\n",
    "ax.set_ylabel(\"Impressions\")\n",
    "\n",
    "ax=plt.subplot(122)\n",
    "sns.set_style(\"darkgrid\")\n",
    "plt.plot(weekday_['click'],marker='o')\n",
    "ax.set_xlabel(\"Weekday\")\n",
    "ax.set_ylabel(\"CTR\")\n",
    "plt.show()"
   ]
  },
  {
   "cell_type": "code",
   "execution_count": null,
   "metadata": {
    "collapsed": true
   },
   "outputs": [],
   "source": [
    "hour = training.groupby(['hour']).size()\n",
    "hour_ = training.groupby('hour', as_index=False)['click'].mean()\n",
    "\n",
    "plt.figure(figsize=(12,4))\n",
    "ax=plt.subplot(121)\n",
    "sns.set_style(\"darkgrid\")\n",
    "plt.plot(hour,marker='o')\n",
    "ax.set_xlabel(\"Hour\")\n",
    "ax.set_ylabel(\"Impressions\")\n",
    "\n",
    "ax=plt.subplot(122)\n",
    "sns.set_style(\"darkgrid\")\n",
    "plt.plot(hour_['click'],marker='o')\n",
    "ax.set_xlabel(\"Hour\")\n",
    "ax.set_ylabel(\"CTR\")\n",
    "\n",
    "plt.show()"
   ]
  },
  {
   "cell_type": "code",
   "execution_count": null,
   "metadata": {
    "collapsed": true
   },
   "outputs": [],
   "source": [
    "bid = training.groupby('weekday', as_index=False)['payprice'].mean()\n",
    "bid_ = training.groupby('hour', as_index=False)['payprice'].mean()\n",
    "\n",
    "\n",
    "plt.figure(figsize=(12,4))\n",
    "ax=plt.subplot(121)\n",
    "sns.set_style(\"darkgrid\")\n",
    "plt.plot(bid['payprice'],marker='o')\n",
    "ax.set_xlabel(\"Weekday\")\n",
    "ax.set_ylabel(\"Payprice\")\n",
    "\n",
    "ax=plt.subplot(122)\n",
    "sns.set_style(\"darkgrid\")\n",
    "plt.plot(bid_['payprice'],marker='o')\n",
    "ax.set_xlabel(\"Hour\")\n",
    "ax.set_ylabel(\"Payprice\")\n",
    "\n",
    "plt.show()"
   ]
  },
  {
   "cell_type": "code",
   "execution_count": null,
   "metadata": {
    "collapsed": true
   },
   "outputs": [],
   "source": [
    "sns.set_style(\"darkgrid\")\n",
    "ax=data[['CPC']].plot(kind='bar')\n",
    "ax.set_xlabel(\"Advertiser\")\n",
    "ax.set_ylabel(\"CPC (Chinese Fen)\")\n",
    "ax.set_xticklabels(data.Advertiser)\n",
    "plt.show() #template for bar chart"
   ]
  },
  {
   "cell_type": "code",
   "execution_count": null,
   "metadata": {
    "collapsed": true
   },
   "outputs": [],
   "source": [
    "_1458 = training.loc[training['advertiser'] == 1458]\n",
    "_3386 = training.loc[training['advertiser'] == 3386]\n",
    "_3427 = training.loc[training['advertiser'] == 3427]\n",
    "_3476 = training.loc[training['advertiser'] == 3476]\n",
    "_3358 = training.loc[training['advertiser'] == 3358]\n",
    "_2821 = training.loc[training['advertiser'] == 2821]\n",
    "_2259 = training.loc[training['advertiser'] == 2259]\n",
    "_2261 = training.loc[training['advertiser'] == 2261]\n",
    "_2997 = training.loc[training['advertiser'] == 2997]"
   ]
  },
  {
   "cell_type": "code",
   "execution_count": null,
   "metadata": {
    "collapsed": true
   },
   "outputs": [],
   "source": [
    "weekday_1458 = _1458.groupby('weekday', as_index=False)['click'].mean()\n",
    "weekday_3386 = _3386.groupby('weekday', as_index=False)['click'].mean()\n",
    "weekday_3427 = _3427.groupby('weekday', as_index=False)['click'].mean()\n",
    "\n",
    "weekday1458 = _1458.groupby('hour', as_index=False)['click'].mean()\n",
    "weekday3386 = _3386.groupby('hour', as_index=False)['click'].mean()\n",
    "weekday3427 = _3427.groupby('hour', as_index=False)['click'].mean()\n",
    "\n",
    "plt.figure(figsize=(12,4))\n",
    "ax=plt.subplot(121)\n",
    "sns.set_style(\"darkgrid\")\n",
    "plt.plot(weekday_1458['click'], label = 'adv 1458', marker='o')\n",
    "plt.plot(weekday_3386['click'], label = 'adv 3386', marker='o')\n",
    "plt.plot(weekday_3427['click'], label = 'adv 3427', marker='o')\n",
    "ax.set_xlabel(\"Weekday\")\n",
    "ax.set_ylabel(\"CTR\")\n",
    "plt.legend(loc='upper left')\n",
    "\n",
    "ax=plt.subplot(122)\n",
    "sns.set_style(\"darkgrid\")\n",
    "plt.plot(weekday1458['click'], label = 'adv 1458', marker='o')\n",
    "plt.plot(weekday3386['click'], label = 'adv 3386', marker='o')\n",
    "plt.plot(weekday3427['click'], label = 'adv 3427', marker='o')\n",
    "ax.set_xlabel(\"Hour\")\n",
    "ax.set_ylabel(\"CTR\")\n",
    "plt.show()"
   ]
  },
  {
   "cell_type": "code",
   "execution_count": null,
   "metadata": {
    "collapsed": true
   },
   "outputs": [],
   "source": [
    "weekday1458_ = _1458.groupby('region', as_index=False)['click'].mean()\n",
    "weekday3386_ = _3386.groupby('region', as_index=False)['click'].mean()\n",
    "weekday3427_ = _3427.groupby('region', as_index=False)['click'].mean()\n",
    "\n",
    "plt.figure(figsize=(12,4))\n",
    "ax=plt.subplot(111)\n",
    "sns.set_style(\"darkgrid\")\n",
    "plt.plot(weekday1458_['click'], label = 'adv 1458', marker='o')\n",
    "plt.plot(weekday3386_['click'], label = 'adv 3386', marker='o')\n",
    "plt.plot(weekday3427_['click'], label = 'adv 3427', marker='o')\n",
    "ax.set_xlabel(\"Region\")\n",
    "ax.set_ylabel(\"CTR\")\n",
    "plt.legend(loc='upper left')\n",
    "plt.show()"
   ]
  },
  {
   "cell_type": "code",
   "execution_count": null,
   "metadata": {
    "collapsed": true
   },
   "outputs": [],
   "source": [
    "weekday1458__ = _1458.groupby('weekday', as_index=False)['payprice'].mean()\n",
    "weekday3386__ = _3386.groupby('weekday', as_index=False)['payprice'].mean()\n",
    "weekday3427__ = _3427.groupby('weekday', as_index=False)['payprice'].mean()\n",
    "\n",
    "weekday1458___ = _1458.groupby('hour', as_index=False)['payprice'].mean()\n",
    "weekday3386___ = _3386.groupby('hour', as_index=False)['payprice'].mean()\n",
    "weekday3427___ = _3427.groupby('hour', as_index=False)['payprice'].mean()\n",
    "\n",
    "plt.figure(figsize=(12,4))\n",
    "ax=plt.subplot(121)\n",
    "sns.set_style(\"darkgrid\")\n",
    "plt.plot(weekday1458__['payprice'], label = 'adv 1458', marker='o')\n",
    "plt.plot(weekday3386__['payprice'], label = 'adv 3386', marker='o')\n",
    "plt.plot(weekday3427__['payprice'], label = 'adv 3427', marker='o')\n",
    "ax.set_xlabel(\"Weekday\")\n",
    "ax.set_ylabel(\"Pay price\")\n",
    "ax.set_ylim([60,95])\n",
    "plt.legend(loc='upper left')\n",
    "\n",
    "ax=plt.subplot(122)\n",
    "sns.set_style(\"darkgrid\")\n",
    "plt.plot(weekday1458___['payprice'], label = 'adv 1458', marker='o')\n",
    "plt.plot(weekday3386___['payprice'], label = 'adv 3386', marker='o')\n",
    "plt.plot(weekday3427___['payprice'], label = 'adv 3427', marker='o')\n",
    "ax.set_xlabel(\"Hour\")\n",
    "ax.set_ylabel(\"Pay price\")\n",
    "plt.show()"
   ]
  },
  {
   "cell_type": "code",
   "execution_count": null,
   "metadata": {
    "collapsed": true
   },
   "outputs": [],
   "source": []
  },
  {
   "cell_type": "markdown",
   "metadata": {},
   "source": [
    "# CTR estimation"
   ]
  },
  {
   "cell_type": "code",
   "execution_count": null,
   "metadata": {
    "collapsed": true
   },
   "outputs": [],
   "source": [
    "training = pd.read_csv('/Users/julianilsson/Documents/UCL/Web Economics/dataset/training_edited.csv', index_col = 0)\n",
    "validation = pd.read_csv('/Users/julianilsson/Documents/UCL/Web Economics/dataset/validation_edited.csv', index_col = 0)\n",
    "from sklearn.metrics import mean_squared_error\n",
    "from sklearn.metrics import precision_recall_fscore_support"
   ]
  },
  {
   "cell_type": "markdown",
   "metadata": {},
   "source": [
    "Logistic regression"
   ]
  },
  {
   "cell_type": "code",
   "execution_count": null,
   "metadata": {
    "collapsed": true
   },
   "outputs": [],
   "source": [
    "LRtrain = training.copy()\n",
    "del LRtrain['click']\n",
    "from sklearn import linear_model\n",
    "\n",
    "# Initialize logistic regression model\n",
    "log_model = linear_model.LogisticRegression()\n",
    "\n",
    "# Train the model\n",
    "log_model.fit(X = LRtrain, \n",
    "              y = training[\"click\"])\n",
    "\n",
    "# Check trained model intercept\n",
    "#print(log_model.intercept_)\n",
    "\n",
    "# Check trained model coefficients\n",
    "#print(log_model.coef_)"
   ]
  },
  {
   "cell_type": "code",
   "execution_count": null,
   "metadata": {
    "collapsed": true
   },
   "outputs": [],
   "source": [
    "LRval = validation.copy()\n",
    "del LRval['click']\n",
    "preds = log_model.predict(X=LRval)\n",
    "lrdf = pd.crosstab(preds, validation['click'])"
   ]
  },
  {
   "cell_type": "code",
   "execution_count": null,
   "metadata": {
    "collapsed": true
   },
   "outputs": [],
   "source": [
    "preds2 = log_model.predict_proba(X=LRval)\n",
    "preds2 = pd.DataFrame(preds2)"
   ]
  },
  {
   "cell_type": "code",
   "execution_count": null,
   "metadata": {
    "collapsed": true
   },
   "outputs": [],
   "source": [
    "roc_auc_score(validation['click'], preds2[1])"
   ]
  },
  {
   "cell_type": "code",
   "execution_count": null,
   "metadata": {
    "collapsed": true
   },
   "outputs": [],
   "source": [
    "mean_squared_error(validation['click'], preds2[1])"
   ]
  },
  {
   "cell_type": "code",
   "execution_count": null,
   "metadata": {
    "collapsed": true
   },
   "outputs": [],
   "source": [
    "precision_recall_fscore_support(validation['click'], dff[0])"
   ]
  },
  {
   "cell_type": "markdown",
   "metadata": {},
   "source": [
    "Gradient Boosting"
   ]
  },
  {
   "cell_type": "code",
   "execution_count": null,
   "metadata": {
    "collapsed": true
   },
   "outputs": [],
   "source": [
    "from sklearn.ensemble import GradientBoostingClassifier\n",
    "\n",
    "gbc = GradientBoostingClassifier(loss = 'exponential')\n",
    "gbc.fit(X=LRtrain, y = training['click'])"
   ]
  },
  {
   "cell_type": "code",
   "execution_count": null,
   "metadata": {
    "collapsed": true
   },
   "outputs": [],
   "source": [
    "preds_ = gbc.predict(X=LRval)\n",
    "pd.crosstab(preds_, validation['click'])"
   ]
  },
  {
   "cell_type": "code",
   "execution_count": null,
   "metadata": {
    "collapsed": true
   },
   "outputs": [],
   "source": [
    "preds_ = gbc.predict(X=LRval)\n",
    "df = pd.crosstab(preds_, validation['click']) #exponential loss"
   ]
  },
  {
   "cell_type": "code",
   "execution_count": null,
   "metadata": {
    "collapsed": true
   },
   "outputs": [],
   "source": [
    "import seaborn as sns; sns.set()\n",
    "ax = sns.heatmap(df, annot=True,fmt=\"d\")\n",
    "ax.set_ylabel('Predicted click')\n",
    "ax.set_xlabel('Actual click')\n",
    "plt.show()"
   ]
  },
  {
   "cell_type": "code",
   "execution_count": null,
   "metadata": {
    "collapsed": true
   },
   "outputs": [],
   "source": [
    "preds_1 = gbc.predict_proba(X=LRval)\n",
    "preds_1 = pd.DataFrame(preds_1)\n",
    "\n",
    "roc_auc_score(validation['click'], preds_1[1])\n",
    "mean_squared_error(validation['click'], preds_1[1])\n",
    "precision_recall_fscore_support(validation['click'], DF1[0])"
   ]
  },
  {
   "cell_type": "markdown",
   "metadata": {},
   "source": [
    "# Constant bidding"
   ]
  },
  {
   "cell_type": "code",
   "execution_count": null,
   "metadata": {
    "collapsed": true
   },
   "outputs": [],
   "source": [
    "training_orig = pd.read_csv('/Users/julianilsson/Documents/UCL/Web Economics/dataset/train.csv')\n",
    "validation_orig = pd.read_csv('/Users/julianilsson/Documents/UCL/Web Economics/dataset/validation.csv')"
   ]
  },
  {
   "cell_type": "code",
   "execution_count": null,
   "metadata": {
    "collapsed": true
   },
   "outputs": [],
   "source": [
    "training_orig = training_orig[(training_orig.payprice < training_orig.bidprice)]\n",
    "validation_orig = validation_orig[(validation_orig.payprice < validation_orig.bidprice)]\n",
    "df = training_orig.loc[training_orig['click'] == 1]\n",
    "df2 = training_orig.loc[training_orig['click'] == 0]"
   ]
  },
  {
   "cell_type": "code",
   "execution_count": null,
   "metadata": {
    "collapsed": true
   },
   "outputs": [],
   "source": [
    "bid = 150\n",
    "impressions = 0\n",
    "cost = 0\n",
    "clicks = 0\n",
    "\n",
    "for i in range(0, validation_orig.shape[0]):\n",
    "    if cost + bid < 6250000:\n",
    "        if validation_orig.iloc[i].payprice < bid:\n",
    "            if validation_orig.iloc[i].slotprice < bid:\n",
    "                impressions += 1\n",
    "                cost += validation_orig.iloc[i].payprice\n",
    "                if validation_orig.iloc[i].click == 1:\n",
    "                    clicks += 1\n",
    "                \n",
    "print(\"Impressions:\", impressions)\n",
    "print(\"Cost:\", cost)\n",
    "print(\"Clicks:\", clicks)\n",
    "print(\"CTR\", clicks/impressions)\n",
    "print(\"CPC\", cost/clicks/1000)"
   ]
  },
  {
   "cell_type": "markdown",
   "metadata": {},
   "source": [
    "# Random bidding"
   ]
  },
  {
   "cell_type": "code",
   "execution_count": null,
   "metadata": {
    "collapsed": true
   },
   "outputs": [],
   "source": [
    "impressions = 0\n",
    "cost = 0\n",
    "clicks = 0\n",
    "\n",
    "for i in range(0, validation_orig.shape[0]):\n",
    "    bid = py.random.randint(150,200)\n",
    "    if cost + bid < 6250000:\n",
    "        if validation_orig.iloc[i].payprice < bid:\n",
    "            if validation_orig.iloc[i].slotprice < bid:\n",
    "                impressions += 1\n",
    "                cost += validation_orig.iloc[i].payprice\n",
    "                if validation_orig.iloc[i].click == 1:\n",
    "                    clicks += 1\n",
    "\n",
    "print(\"Impressions:\", impressions)\n",
    "print(\"Cost:\", cost)\n",
    "print(\"Clicks:\", clicks)\n",
    "print(\"CTR\", clicks/impressions) \n",
    "print(\"CPC\", cost/clicks/1000)\n",
    "print(\"\")"
   ]
  },
  {
   "cell_type": "markdown",
   "metadata": {},
   "source": [
    "# Linear bidding"
   ]
  },
  {
   "cell_type": "code",
   "execution_count": null,
   "metadata": {
    "collapsed": true
   },
   "outputs": [],
   "source": [
    "preds = pd.read_csv('/Users/julianilsson/Documents/UCL/Web Economics/dataset/gb_predictions.csv', index_col=0)"
   ]
  },
  {
   "cell_type": "code",
   "execution_count": null,
   "metadata": {
    "collapsed": true
   },
   "outputs": [],
   "source": [
    "preds_ = preds['1']\n",
    "preds_ = pd.DataFrame(preds_)\n",
    "preds_.columns= ['probs']"
   ]
  },
  {
   "cell_type": "code",
   "execution_count": null,
   "metadata": {
    "collapsed": true
   },
   "outputs": [],
   "source": [
    "impressions = 0\n",
    "cost = 0\n",
    "clicks = 0\n",
    "bids = 400\n",
    "\n",
    "for i in range(0, validation_orig.shape[0]):\n",
    "    #print(bid)\n",
    "    bid = 600 * preds_.iloc[i].probs\n",
    "    row = i\n",
    "    if cost + bid < 6250000:\n",
    "        if validation_orig.iloc[i].payprice < bid:\n",
    "            if validation_orig.iloc[i].slotprice < bid:\n",
    "                impressions += 1\n",
    "                cost += validation_orig.iloc[i].payprice\n",
    "                if validation_orig.iloc[i].click == 1:\n",
    "                    clicks += 1\n",
    "print(\"Impressions:\", impressions)\n",
    "print(\"Cost:\", cost)\n",
    "print(\"Clicks:\", clicks)\n",
    "print(\"CTR\", clicks/impressions) \n",
    "print(\"CPC\", cost/clicks/1000)\n",
    "print(\"\")"
   ]
  },
  {
   "cell_type": "markdown",
   "metadata": {},
   "source": [
    "# Stepped bidding"
   ]
  },
  {
   "cell_type": "code",
   "execution_count": null,
   "metadata": {
    "collapsed": true
   },
   "outputs": [],
   "source": [
    "impressions = 0\n",
    "cost = 0\n",
    "clicks = 0\n",
    "\n",
    "for i in range(0, validation_orig.shape[0]):\n",
    "    if preds_.iloc[i].probs < 0.5:\n",
    "        bid = 0\n",
    "    if 0.5 < preds_.iloc[i].probs < 0.8:\n",
    "        bid = 600 * preds_.iloc[i].probs #best linear model?\n",
    "    if preds_.iloc[i].probs > 0.8:\n",
    "        bid = 300\n",
    "    row = i\n",
    "    if cost + bid < 6250000:\n",
    "        if validation_orig.iloc[i].payprice < bid:\n",
    "            if validation_orig.iloc[i].slotprice < bid:\n",
    "                impressions += 1\n",
    "                cost += validation_orig.iloc[i].payprice\n",
    "                if validation_orig.iloc[i].click == 1:\n",
    "                    clicks += 1\n",
    "\n",
    "print(\"Impressions:\", impressions)\n",
    "print(\"Rows:\", row)\n",
    "print(\"Cost:\", cost)\n",
    "print(\"Clicks:\", clicks)\n",
    "print(\"CTR\", clicks/impressions) \n",
    "print(\"CPC\", cost/clicks/1000)"
   ]
  },
  {
   "cell_type": "code",
   "execution_count": null,
   "metadata": {
    "collapsed": true
   },
   "outputs": [],
   "source": []
  },
  {
   "cell_type": "code",
   "execution_count": null,
   "metadata": {
    "collapsed": true
   },
   "outputs": [],
   "source": []
  },
  {
   "cell_type": "code",
   "execution_count": null,
   "metadata": {
    "collapsed": true
   },
   "outputs": [],
   "source": []
  },
  {
   "cell_type": "code",
   "execution_count": null,
   "metadata": {
    "collapsed": true
   },
   "outputs": [],
   "source": []
  },
  {
   "cell_type": "code",
   "execution_count": null,
   "metadata": {
    "collapsed": true
   },
   "outputs": [],
   "source": []
  }
 ],
 "metadata": {
  "anaconda-cloud": {},
  "kernelspec": {
   "display_name": "Python [conda root]",
   "language": "python",
   "name": "conda-root-py"
  },
  "language_info": {
   "codemirror_mode": {
    "name": "ipython",
    "version": 3
   },
   "file_extension": ".py",
   "mimetype": "text/x-python",
   "name": "python",
   "nbconvert_exporter": "python",
   "pygments_lexer": "ipython3",
   "version": "3.5.2"
  }
 },
 "nbformat": 4,
 "nbformat_minor": 1
}
